{
 "metadata": {
  "name": "",
  "signature": "sha256:53515bac381aaf13449e1f3a0b8858d4d5c252b321501a44df1cfa26d9984cac"
 },
 "nbformat": 3,
 "nbformat_minor": 0,
 "worksheets": [
  {
   "cells": [
    {
     "cell_type": "code",
     "collapsed": false,
     "input": [
      "from sympy import init_printing\n",
      "init_printing()\n",
      "import sympy as sp\n",
      "import numpy as np\n",
      "\n"
     ],
     "language": "python",
     "metadata": {},
     "outputs": [],
     "prompt_number": 227
    },
    {
     "cell_type": "code",
     "collapsed": false,
     "input": [
      "def nth_derivative_at_zero(uhat,s,n):\n",
      "  ''' \n",
      "  equation 32 in the appendix\n",
      "  \n",
      "  returns the the nth derivative of u(x) evaluated at zero given the laplace                                       \n",
      "  transform of u(x)                                                                                                \n",
      "  PARAMETERS                                                                                                       \n",
      "  ----------                                                                                                       \n",
      "    uhat: laplace transform of u. This is a symbolic function of s.                                                \n",
      "    s: the laplace domain variable                                                                                 \n",
      "    n: the derivative order                                                                                        \n",
      "                                                                                                                   \n",
      "  RETURNS                                                                                                          \n",
      "  -------                                                                                                          \n",
      "    nth_derivative: symbolic expression for the nth derivative of u evaluated                                      \n",
      "                    at zero                                                                                        \n",
      "  '''\n",
      "  assert n >= 0\n",
      "  if n == 0:\n",
      "    expr = s*uhat\n",
      "    zeroth_derivative = expr.limit(s,np.inf)\n",
      "    return zeroth_derivative\n",
      "  elif n > 0:\n",
      "    expr = s**(n+1)*uhat\n",
      "    # note that m goes up to n-1                                                                                   \n",
      "    for m in range(0,n):\n",
      "      expr -= s**(m+1)*nth_derivative_at_zero(uhat,s,n-m-1)\n",
      "    nth_derivative = expr.limit(s,np.inf)\n",
      "    return nth_derivative\n",
      "\n",
      "def inverse_laplace_transform_series_expansion(uhat,s,t,N):\n",
      "  '''     \n",
      "  Equation 33 in the appendix\n",
      "  \n",
      "  returns the Taylor series expansion of u(x) about zero given its laplace                                         \n",
      "  transform                                                                                                        \n",
      "                                                                                                                   \n",
      "  PARAMETERS                                                                                                       \n",
      "  ----------                                                                                                       \n",
      "    uhat: symbolic expression for the laplace transform of u(x)                                                    \n",
      "    s: laplace domain variable                                                                                     \n",
      "    N: order of the Taylor series expansion                                                                        \n",
      "                                                                                                                   \n",
      "  RETURNS                                                                                                          \n",
      "  -------                                                                                                          \n",
      "    series: symbolic expression for the series expansion of the u(x)                                               \n",
      "          about x=0                                                                                                \n",
      "  '''\n",
      "  series = 0\n",
      "  # note that n goes up to N                                                                                       \n",
      "  for n in range(N+1):\n",
      "    # sum each term in the taylor series expansion                                                                 \n",
      "    series += (nth_derivative_at_zero(uhat,s,n)*t**n)/sp.factorial(n)\n",
      "  return series\n"
     ],
     "language": "python",
     "metadata": {},
     "outputs": [],
     "prompt_number": 228
    },
    {
     "cell_type": "code",
     "collapsed": false,
     "input": [
      "## define symbolic variables\n",
      "\n",
      "# material parameters\n",
      "mu1,mu2,mu3 = sp.symbols('mu1,mu2,mu3')\n",
      "eta1,eta2,eta3 = sp.symbols('eta1,eta2,eta3')\n",
      "etainv1,etainv2,etainv3 = sp.symbols('eta1^-1,eta2^-1,eta3^-1')\n",
      "\n",
      "# time, dummy variable for time integration, and Laplace domain parameter\n",
      "t,theta,s = sp.symbols('t,theta,s')\n",
      "\n",
      "# slip function \n",
      "b = 1\n",
      "\n",
      "## variables used in the two layer lithosphere\n",
      "# dummy summation variable\n",
      "n = sp.symbols('n')\n",
      "\n",
      "# distance from the fault\n",
      "x = sp.symbols('x')\n",
      "\n",
      "# locking depth, upper layer thickness in the two layer case\n",
      "D,H = sp.symbols('D H')\n",
      "\n",
      "## Variables used in the three layer lithosphere \n",
      "# thickness of the top and middle layer and depth the bottom of the fault\n",
      "h2, h3, p = sp.symbols('h2,h3,p')\n",
      "\n",
      "# dummy summaton variables\n",
      "N,M = sp.symbols('N,M')\n",
      "# distance from fault\n",
      "y = sp.symbols('y')"
     ],
     "language": "python",
     "metadata": {},
     "outputs": [],
     "prompt_number": 229
    },
    {
     "cell_type": "code",
     "collapsed": false,
     "input": [
      "# This is to validate that eq. 33 really is effectively performing an \n",
      "# inverse laplace transform\n",
      "\n",
      "# test function\n",
      "u = 3*t**2 + 2*t + 1\n",
      "\n",
      "# laplace transform of test function\n",
      "uhat = sp.laplace_transform(u,t,s)[0]\n",
      "\n",
      "# this should recover the original test function\n",
      "u_expansion = inverse_laplace_transform_series_expansion(uhat,s,t,2)\n",
      "assert sp.simplify(u - u_expansion) == 0\n",
      "u_expansion\n"
     ],
     "language": "python",
     "metadata": {},
     "outputs": [
      {
       "latex": [
        "$$3 t^{2} + 2 t + 1$$"
       ],
       "metadata": {},
       "output_type": "pyout",
       "png": "[encoded data removed]",
       "prompt_number": 230,
       "text": [
        "   2          \n",
        "3\u22c5t  + 2\u22c5t + 1"
       ]
      }
     ],
     "prompt_number": 230
    },
    {
     "cell_type": "code",
     "collapsed": false,
     "input": [
      "# test function\n",
      "u = sp.sin(t)\n",
      "\n",
      "# laplace transform of test function\n",
      "uhat = sp.laplace_transform(u,t,s)[0]\n",
      "\n",
      "# this should recover the series expansion of sin(t)\n",
      "u_expansion = inverse_laplace_transform_series_expansion(uhat,s,t,5)\n",
      "\n",
      "# sympy is unable to find the limit for much higher order terms \n",
      "u_expansion"
     ],
     "language": "python",
     "metadata": {},
     "outputs": [
      {
       "latex": [
        "$$\\frac{t^{5}}{120} - \\frac{t^{3}}{6} + t$$"
       ],
       "metadata": {},
       "output_type": "pyout",
       "png": "[encoded data removed]",
       "prompt_number": 231,
       "text": [
        "  5    3    \n",
        " t    t     \n",
        "\u2500\u2500\u2500 - \u2500\u2500 + t\n",
        "120   6     "
       ]
      }
     ],
     "prompt_number": 231
    },
    {
     "cell_type": "markdown",
     "metadata": {},
     "source": [
      "##Maxwell viscoelastic 2D two layered earthquake model                                                               \n",
      "  I am demonstrating here that the surface deformation resulting from viscous                                      \n",
      "  relaxation following an earthquake in a layered halfspace is, to first order,                                    \n",
      "  a linear function of the viscosities in each layer.                                                              \n",
      "                                                                                                                   \n",
      "##Variables used                                                                                                     \n",
      "  x: distance from fault                                                                                     \n",
      "  t: time                                                                                                          \n",
      "  D: locking depth of the fault                                                                                    \n",
      "  H: thickness of the top layer                                                                                    \n",
      "  mu1,mu2: shear modulus of the first and second layer                                                             \n",
      "  eta1,eta2: viscosity of the first and second layer "
     ]
    },
    {
     "cell_type": "markdown",
     "metadata": {},
     "source": [
      "The surface displacements for a layered viscous halfspace can be found by using the displacements for a layered elastic halfspace and the correspondence principle. The surface displacements for a layered elastic halfspace are:"
     ]
    },
    {
     "cell_type": "code",
     "collapsed": false,
     "input": [
      "# number of terms for the infinite series\n",
      "nmax = 3\n",
      "\n",
      "gamma = (mu1-mu2)/(mu1+mu2)\n",
      "W = sp.Function('W')(n)\n",
      "# uncomment for explicit W \n",
      "#W = 1/sp.pi*(sp.atan((D + 2*n*H)/x) + sp.atan((D - 2*n*H)/x))                                                     \n",
      "u_elastic = b*(sp.Rational(1,2)*W.subs(n,0)\n",
      "               + sp.summation(gamma**n*W,(n,1,nmax)))"
     ],
     "language": "python",
     "metadata": {},
     "outputs": [],
     "prompt_number": 232
    },
    {
     "cell_type": "markdown",
     "metadata": {},
     "source": [
      "The correpondence principle says that the Laplace transform of displacements in an elastic medium is the same form as the displacements in a viscoelastic medium. The laplace transform of displacements for an elastic medium are:"
     ]
    },
    {
     "cell_type": "code",
     "collapsed": false,
     "input": [
      "uhat_elastic = sp.laplace_transform(u_elastic,t,s)[0]"
     ],
     "language": "python",
     "metadata": {},
     "outputs": [],
     "prompt_number": 233
    },
    {
     "cell_type": "markdown",
     "metadata": {},
     "source": [
      "Replacing the shear modulii with the equivalent maxwell viscoelastic shear modulii in the laplace domain gives us the laplace transform of displacements in the viscoelastic model "
     ]
    },
    {
     "cell_type": "code",
     "collapsed": false,
     "input": [
      "mu1hat = s/((s/mu1) + (etainv1)) # equivalent shear modulii                                                         \n",
      "mu2hat = s/((s/mu2) + (etainv2))\n",
      "uhat_viscoelastic = uhat_elastic.subs(((mu1,mu1hat),(mu2,mu2hat)))"
     ],
     "language": "python",
     "metadata": {},
     "outputs": [],
     "prompt_number": 234
    },
    {
     "cell_type": "markdown",
     "metadata": {},
     "source": [
      "If we do not assume that the shear modulii are equal in the viscoelastic model then the inverse laplace transform of the above equation is quite a complex expression.  However, the first two terms in the series expansion are:"
     ]
    },
    {
     "cell_type": "code",
     "collapsed": false,
     "input": [
      "u_viscoelastic = inverse_laplace_transform_series_expansion(uhat_viscoelastic,s,t,1)\n",
      "u_viscoelastic.expand().collect((etainv1,etainv2))"
     ],
     "language": "python",
     "metadata": {},
     "outputs": [
      {
       "latex": [
        "$$\\eta^{-1}_{1} \\left(- \\frac{2 \\mu_{1}^{4} \\mu_{2} t W{\\left (1 \\right )}}{\\mu_{1}^{4} + 4 \\mu_{1}^{3} \\mu_{2} + 6 \\mu_{1}^{2} \\mu_{2}^{2} + 4 \\mu_{1} \\mu_{2}^{3} + \\mu_{2}^{4}} - \\frac{4 \\mu_{1}^{4} \\mu_{2} t W{\\left (2 \\right )}}{\\mu_{1}^{4} + 4 \\mu_{1}^{3} \\mu_{2} + 6 \\mu_{1}^{2} \\mu_{2}^{2} + 4 \\mu_{1} \\mu_{2}^{3} + \\mu_{2}^{4}} - \\frac{6 \\mu_{1}^{4} \\mu_{2} t W{\\left (3 \\right )}}{\\mu_{1}^{4} + 4 \\mu_{1}^{3} \\mu_{2} + 6 \\mu_{1}^{2} \\mu_{2}^{2} + 4 \\mu_{1} \\mu_{2}^{3} + \\mu_{2}^{4}} - \\frac{4 \\mu_{1}^{3} \\mu_{2}^{2} t W{\\left (1 \\right )}}{\\mu_{1}^{4} + 4 \\mu_{1}^{3} \\mu_{2} + 6 \\mu_{1}^{2} \\mu_{2}^{2} + 4 \\mu_{1} \\mu_{2}^{3} + \\mu_{2}^{4}} + \\frac{12 \\mu_{1}^{3} \\mu_{2}^{2} t W{\\left (3 \\right )}}{\\mu_{1}^{4} + 4 \\mu_{1}^{3} \\mu_{2} + 6 \\mu_{1}^{2} \\mu_{2}^{2} + 4 \\mu_{1} \\mu_{2}^{3} + \\mu_{2}^{4}} - \\frac{2 \\mu_{1}^{2} \\mu_{2}^{3} t W{\\left (1 \\right )}}{\\mu_{1}^{4} + 4 \\mu_{1}^{3} \\mu_{2} + 6 \\mu_{1}^{2} \\mu_{2}^{2} + 4 \\mu_{1} \\mu_{2}^{3} + \\mu_{2}^{4}} + \\frac{4 \\mu_{1}^{2} \\mu_{2}^{3} t W{\\left (2 \\right )}}{\\mu_{1}^{4} + 4 \\mu_{1}^{3} \\mu_{2} + 6 \\mu_{1}^{2} \\mu_{2}^{2} + 4 \\mu_{1} \\mu_{2}^{3} + \\mu_{2}^{4}} - \\frac{6 \\mu_{1}^{2} \\mu_{2}^{3} t W{\\left (3 \\right )}}{\\mu_{1}^{4} + 4 \\mu_{1}^{3} \\mu_{2} + 6 \\mu_{1}^{2} \\mu_{2}^{2} + 4 \\mu_{1} \\mu_{2}^{3} + \\mu_{2}^{4}}\\right) + \\eta^{-1}_{2} \\left(\\frac{2 \\mu_{1}^{3} \\mu_{2}^{2} t W{\\left (1 \\right )}}{\\mu_{1}^{4} + 4 \\mu_{1}^{3} \\mu_{2} + 6 \\mu_{1}^{2} \\mu_{2}^{2} + 4 \\mu_{1} \\mu_{2}^{3} + \\mu_{2}^{4}} + \\frac{4 \\mu_{1}^{3} \\mu_{2}^{2} t W{\\left (2 \\right )}}{\\mu_{1}^{4} + 4 \\mu_{1}^{3} \\mu_{2} + 6 \\mu_{1}^{2} \\mu_{2}^{2} + 4 \\mu_{1} \\mu_{2}^{3} + \\mu_{2}^{4}} + \\frac{6 \\mu_{1}^{3} \\mu_{2}^{2} t W{\\left (3 \\right )}}{\\mu_{1}^{4} + 4 \\mu_{1}^{3} \\mu_{2} + 6 \\mu_{1}^{2} \\mu_{2}^{2} + 4 \\mu_{1} \\mu_{2}^{3} + \\mu_{2}^{4}} + \\frac{4 \\mu_{1}^{2} \\mu_{2}^{3} t W{\\left (1 \\right )}}{\\mu_{1}^{4} + 4 \\mu_{1}^{3} \\mu_{2} + 6 \\mu_{1}^{2} \\mu_{2}^{2} + 4 \\mu_{1} \\mu_{2}^{3} + \\mu_{2}^{4}} - \\frac{12 \\mu_{1}^{2} \\mu_{2}^{3} t W{\\left (3 \\right )}}{\\mu_{1}^{4} + 4 \\mu_{1}^{3} \\mu_{2} + 6 \\mu_{1}^{2} \\mu_{2}^{2} + 4 \\mu_{1} \\mu_{2}^{3} + \\mu_{2}^{4}} + \\frac{2 \\mu_{1} \\mu_{2}^{4} t W{\\left (1 \\right )}}{\\mu_{1}^{4} + 4 \\mu_{1}^{3} \\mu_{2} + 6 \\mu_{1}^{2} \\mu_{2}^{2} + 4 \\mu_{1} \\mu_{2}^{3} + \\mu_{2}^{4}} - \\frac{4 \\mu_{1} \\mu_{2}^{4} t W{\\left (2 \\right )}}{\\mu_{1}^{4} + 4 \\mu_{1}^{3} \\mu_{2} + 6 \\mu_{1}^{2} \\mu_{2}^{2} + 4 \\mu_{1} \\mu_{2}^{3} + \\mu_{2}^{4}} + \\frac{6 \\mu_{1} \\mu_{2}^{4} t W{\\left (3 \\right )}}{\\mu_{1}^{4} + 4 \\mu_{1}^{3} \\mu_{2} + 6 \\mu_{1}^{2} \\mu_{2}^{2} + 4 \\mu_{1} \\mu_{2}^{3} + \\mu_{2}^{4}}\\right) + \\frac{\\mu_{1}^{3} W{\\left (0 \\right )}}{2 \\mu_{1}^{3} + 6 \\mu_{1}^{2} \\mu_{2} + 6 \\mu_{1} \\mu_{2}^{2} + 2 \\mu_{2}^{3}} + \\frac{2 \\mu_{1}^{3} W{\\left (1 \\right )}}{2 \\mu_{1}^{3} + 6 \\mu_{1}^{2} \\mu_{2} + 6 \\mu_{1} \\mu_{2}^{2} + 2 \\mu_{2}^{3}} + \\frac{2 \\mu_{1}^{3} W{\\left (2 \\right )}}{2 \\mu_{1}^{3} + 6 \\mu_{1}^{2} \\mu_{2} + 6 \\mu_{1} \\mu_{2}^{2} + 2 \\mu_{2}^{3}} + \\frac{2 \\mu_{1}^{3} W{\\left (3 \\right )}}{2 \\mu_{1}^{3} + 6 \\mu_{1}^{2} \\mu_{2} + 6 \\mu_{1} \\mu_{2}^{2} + 2 \\mu_{2}^{3}} + \\frac{3 \\mu_{1}^{2} \\mu_{2} W{\\left (0 \\right )}}{2 \\mu_{1}^{3} + 6 \\mu_{1}^{2} \\mu_{2} + 6 \\mu_{1} \\mu_{2}^{2} + 2 \\mu_{2}^{3}} + \\frac{2 \\mu_{1}^{2} \\mu_{2} W{\\left (1 \\right )}}{2 \\mu_{1}^{3} + 6 \\mu_{1}^{2} \\mu_{2} + 6 \\mu_{1} \\mu_{2}^{2} + 2 \\mu_{2}^{3}} - \\frac{2 \\mu_{1}^{2} \\mu_{2} W{\\left (2 \\right )}}{2 \\mu_{1}^{3} + 6 \\mu_{1}^{2} \\mu_{2} + 6 \\mu_{1} \\mu_{2}^{2} + 2 \\mu_{2}^{3}} - \\frac{6 \\mu_{1}^{2} \\mu_{2} W{\\left (3 \\right )}}{2 \\mu_{1}^{3} + 6 \\mu_{1}^{2} \\mu_{2} + 6 \\mu_{1} \\mu_{2}^{2} + 2 \\mu_{2}^{3}} + \\frac{3 \\mu_{1} \\mu_{2}^{2} W{\\left (0 \\right )}}{2 \\mu_{1}^{3} + 6 \\mu_{1}^{2} \\mu_{2} + 6 \\mu_{1} \\mu_{2}^{2} + 2 \\mu_{2}^{3}} - \\frac{2 \\mu_{1} \\mu_{2}^{2} W{\\left (1 \\right )}}{2 \\mu_{1}^{3} + 6 \\mu_{1}^{2} \\mu_{2} + 6 \\mu_{1} \\mu_{2}^{2} + 2 \\mu_{2}^{3}} - \\frac{2 \\mu_{1} \\mu_{2}^{2} W{\\left (2 \\right )}}{2 \\mu_{1}^{3} + 6 \\mu_{1}^{2} \\mu_{2} + 6 \\mu_{1} \\mu_{2}^{2} + 2 \\mu_{2}^{3}} + \\frac{6 \\mu_{1} \\mu_{2}^{2} W{\\left (3 \\right )}}{2 \\mu_{1}^{3} + 6 \\mu_{1}^{2} \\mu_{2} + 6 \\mu_{1} \\mu_{2}^{2} + 2 \\mu_{2}^{3}} + \\frac{\\mu_{2}^{3} W{\\left (0 \\right )}}{2 \\mu_{1}^{3} + 6 \\mu_{1}^{2} \\mu_{2} + 6 \\mu_{1} \\mu_{2}^{2} + 2 \\mu_{2}^{3}} - \\frac{2 \\mu_{2}^{3} W{\\left (1 \\right )}}{2 \\mu_{1}^{3} + 6 \\mu_{1}^{2} \\mu_{2} + 6 \\mu_{1} \\mu_{2}^{2} + 2 \\mu_{2}^{3}} + \\frac{2 \\mu_{2}^{3} W{\\left (2 \\right )}}{2 \\mu_{1}^{3} + 6 \\mu_{1}^{2} \\mu_{2} + 6 \\mu_{1} \\mu_{2}^{2} + 2 \\mu_{2}^{3}} - \\frac{2 \\mu_{2}^{3} W{\\left (3 \\right )}}{2 \\mu_{1}^{3} + 6 \\mu_{1}^{2} \\mu_{2} + 6 \\mu_{1} \\mu_{2}^{2} + 2 \\mu_{2}^{3}}$$"
       ],
       "metadata": {},
       "output_type": "pyout",
       "png": "[encoded data removed]",
       "prompt_number": 235,
       "text": [
        "     \u239b                    4                                             4     \n",
        "     \u239c                2\u22c5\u03bc\u2081 \u22c5\u03bc\u2082\u22c5t\u22c5W(1)                               4\u22c5\u03bc\u2081 \u22c5\u03bc\u2082\u22c5t\n",
        "\u03b7\u207b\u00b9\u2081\u22c5\u239c- \u2500\u2500\u2500\u2500\u2500\u2500\u2500\u2500\u2500\u2500\u2500\u2500\u2500\u2500\u2500\u2500\u2500\u2500\u2500\u2500\u2500\u2500\u2500\u2500\u2500\u2500\u2500\u2500\u2500\u2500\u2500\u2500\u2500\u2500\u2500\u2500\u2500\u2500\u2500\u2500\u2500\u2500\u2500 - \u2500\u2500\u2500\u2500\u2500\u2500\u2500\u2500\u2500\u2500\u2500\u2500\u2500\u2500\u2500\u2500\u2500\u2500\u2500\u2500\u2500\u2500\u2500\u2500\n",
        "     \u239c    4       3          2   2          3     4     4       3          2  \n",
        "     \u239d  \u03bc\u2081  + 4\u22c5\u03bc\u2081 \u22c5\u03bc\u2082 + 6\u22c5\u03bc\u2081 \u22c5\u03bc\u2082  + 4\u22c5\u03bc\u2081\u22c5\u03bc\u2082  + \u03bc\u2082    \u03bc\u2081  + 4\u22c5\u03bc\u2081 \u22c5\u03bc\u2082 + 6\u22c5\u03bc\u2081 \u22c5\u03bc\n",
        "\n",
        "                                        4                                     \n",
        "\u22c5W(2)                               6\u22c5\u03bc\u2081 \u22c5\u03bc\u2082\u22c5t\u22c5W(3)                           \n",
        "\u2500\u2500\u2500\u2500\u2500\u2500\u2500\u2500\u2500\u2500\u2500\u2500\u2500\u2500\u2500\u2500\u2500\u2500\u2500 - \u2500\u2500\u2500\u2500\u2500\u2500\u2500\u2500\u2500\u2500\u2500\u2500\u2500\u2500\u2500\u2500\u2500\u2500\u2500\u2500\u2500\u2500\u2500\u2500\u2500\u2500\u2500\u2500\u2500\u2500\u2500\u2500\u2500\u2500\u2500\u2500\u2500\u2500\u2500\u2500\u2500\u2500\u2500 - \u2500\u2500\u2500\u2500\u2500\u2500\u2500\u2500\u2500\u2500\n",
        " 2          3     4     4       3          2   2          3     4     4       \n",
        "\u2082  + 4\u22c5\u03bc\u2081\u22c5\u03bc\u2082  + \u03bc\u2082    \u03bc\u2081  + 4\u22c5\u03bc\u2081 \u22c5\u03bc\u2082 + 6\u22c5\u03bc\u2081 \u22c5\u03bc\u2082  + 4\u22c5\u03bc\u2081\u22c5\u03bc\u2082  + \u03bc\u2082    \u03bc\u2081  + 4\u22c5\u03bc\u2081\n",
        "\n",
        "        3   2                                         3   2                   \n",
        "    4\u22c5\u03bc\u2081 \u22c5\u03bc\u2082 \u22c5t\u22c5W(1)                             12\u22c5\u03bc\u2081 \u22c5\u03bc\u2082 \u22c5t\u22c5W(3)            \n",
        "\u2500\u2500\u2500\u2500\u2500\u2500\u2500\u2500\u2500\u2500\u2500\u2500\u2500\u2500\u2500\u2500\u2500\u2500\u2500\u2500\u2500\u2500\u2500\u2500\u2500\u2500\u2500\u2500\u2500\u2500\u2500\u2500\u2500 + \u2500\u2500\u2500\u2500\u2500\u2500\u2500\u2500\u2500\u2500\u2500\u2500\u2500\u2500\u2500\u2500\u2500\u2500\u2500\u2500\u2500\u2500\u2500\u2500\u2500\u2500\u2500\u2500\u2500\u2500\u2500\u2500\u2500\u2500\u2500\u2500\u2500\u2500\u2500\u2500\u2500\u2500\n",
        "3          2   2          3     4     4       3          2   2          3     \n",
        " \u22c5\u03bc\u2082 + 6\u22c5\u03bc\u2081 \u22c5\u03bc\u2082  + 4\u22c5\u03bc\u2081\u22c5\u03bc\u2082  + \u03bc\u2082    \u03bc\u2081  + 4\u22c5\u03bc\u2081 \u22c5\u03bc\u2082 + 6\u22c5\u03bc\u2081 \u22c5\u03bc\u2082  + 4\u22c5\u03bc\u2081\u22c5\u03bc\u2082  + \u03bc\u2082\n",
        "\n",
        "                      2   3                                         2   3     \n",
        "                  2\u22c5\u03bc\u2081 \u22c5\u03bc\u2082 \u22c5t\u22c5W(1)                              4\u22c5\u03bc\u2081 \u22c5\u03bc\u2082 \u22c5t\u22c5W(\n",
        "\u2500 - \u2500\u2500\u2500\u2500\u2500\u2500\u2500\u2500\u2500\u2500\u2500\u2500\u2500\u2500\u2500\u2500\u2500\u2500\u2500\u2500\u2500\u2500\u2500\u2500\u2500\u2500\u2500\u2500\u2500\u2500\u2500\u2500\u2500\u2500\u2500\u2500\u2500\u2500\u2500\u2500\u2500\u2500\u2500 + \u2500\u2500\u2500\u2500\u2500\u2500\u2500\u2500\u2500\u2500\u2500\u2500\u2500\u2500\u2500\u2500\u2500\u2500\u2500\u2500\u2500\u2500\u2500\u2500\u2500\u2500\u2500\u2500\n",
        "4     4       3          2   2          3     4     4       3          2   2  \n",
        "    \u03bc\u2081  + 4\u22c5\u03bc\u2081 \u22c5\u03bc\u2082 + 6\u22c5\u03bc\u2081 \u22c5\u03bc\u2082  + 4\u22c5\u03bc\u2081\u22c5\u03bc\u2082  + \u03bc\u2082    \u03bc\u2081  + 4\u22c5\u03bc\u2081 \u22c5\u03bc\u2082 + 6\u22c5\u03bc\u2081 \u22c5\u03bc\u2082  +\n",
        "\n",
        "                                    2   3                    \u239e        \u239b       \n",
        "2)                              6\u22c5\u03bc\u2081 \u22c5\u03bc\u2082 \u22c5t\u22c5W(3)             \u239f        \u239c       \n",
        "\u2500\u2500\u2500\u2500\u2500\u2500\u2500\u2500\u2500\u2500\u2500\u2500\u2500\u2500\u2500 - \u2500\u2500\u2500\u2500\u2500\u2500\u2500\u2500\u2500\u2500\u2500\u2500\u2500\u2500\u2500\u2500\u2500\u2500\u2500\u2500\u2500\u2500\u2500\u2500\u2500\u2500\u2500\u2500\u2500\u2500\u2500\u2500\u2500\u2500\u2500\u2500\u2500\u2500\u2500\u2500\u2500\u2500\u2500\u239f + \u03b7\u207b\u00b9\u2082\u22c5\u239c\u2500\u2500\u2500\u2500\u2500\u2500\u2500\n",
        "        3     4     4       3          2   2          3     4\u239f        \u239c  4    \n",
        " 4\u22c5\u03bc\u2081\u22c5\u03bc\u2082  + \u03bc\u2082    \u03bc\u2081  + 4\u22c5\u03bc\u2081 \u22c5\u03bc\u2082 + 6\u22c5\u03bc\u2081 \u22c5\u03bc\u2082  + 4\u22c5\u03bc\u2081\u22c5\u03bc\u2082  + \u03bc\u2082 \u23a0        \u239d\u03bc\u2081  + 4\n",
        "\n",
        "           3   2                                         3   2                \n",
        "       2\u22c5\u03bc\u2081 \u22c5\u03bc\u2082 \u22c5t\u22c5W(1)                              4\u22c5\u03bc\u2081 \u22c5\u03bc\u2082 \u22c5t\u22c5W(2)         \n",
        "\u2500\u2500\u2500\u2500\u2500\u2500\u2500\u2500\u2500\u2500\u2500\u2500\u2500\u2500\u2500\u2500\u2500\u2500\u2500\u2500\u2500\u2500\u2500\u2500\u2500\u2500\u2500\u2500\u2500\u2500\u2500\u2500\u2500\u2500\u2500\u2500 + \u2500\u2500\u2500\u2500\u2500\u2500\u2500\u2500\u2500\u2500\u2500\u2500\u2500\u2500\u2500\u2500\u2500\u2500\u2500\u2500\u2500\u2500\u2500\u2500\u2500\u2500\u2500\u2500\u2500\u2500\u2500\u2500\u2500\u2500\u2500\u2500\u2500\u2500\u2500\n",
        "   3          2   2          3     4     4       3          2   2          3  \n",
        "\u22c5\u03bc\u2081 \u22c5\u03bc\u2082 + 6\u22c5\u03bc\u2081 \u22c5\u03bc\u2082  + 4\u22c5\u03bc\u2081\u22c5\u03bc\u2082  + \u03bc\u2082    \u03bc\u2081  + 4\u22c5\u03bc\u2081 \u22c5\u03bc\u2082 + 6\u22c5\u03bc\u2081 \u22c5\u03bc\u2082  + 4\u22c5\u03bc\u2081\u22c5\u03bc\u2082  +\n",
        "\n",
        "                         3   2                                         2   3  \n",
        "                     6\u22c5\u03bc\u2081 \u22c5\u03bc\u2082 \u22c5t\u22c5W(3)                              4\u22c5\u03bc\u2081 \u22c5\u03bc\u2082 \u22c5t\n",
        "\u2500\u2500\u2500\u2500 + \u2500\u2500\u2500\u2500\u2500\u2500\u2500\u2500\u2500\u2500\u2500\u2500\u2500\u2500\u2500\u2500\u2500\u2500\u2500\u2500\u2500\u2500\u2500\u2500\u2500\u2500\u2500\u2500\u2500\u2500\u2500\u2500\u2500\u2500\u2500\u2500\u2500\u2500\u2500\u2500\u2500\u2500\u2500 + \u2500\u2500\u2500\u2500\u2500\u2500\u2500\u2500\u2500\u2500\u2500\u2500\u2500\u2500\u2500\u2500\u2500\u2500\u2500\u2500\u2500\u2500\u2500\u2500\u2500\n",
        "   4     4       3          2   2          3     4     4       3          2   \n",
        " \u03bc\u2082    \u03bc\u2081  + 4\u22c5\u03bc\u2081 \u22c5\u03bc\u2082 + 6\u22c5\u03bc\u2081 \u22c5\u03bc\u2082  + 4\u22c5\u03bc\u2081\u22c5\u03bc\u2082  + \u03bc\u2082    \u03bc\u2081  + 4\u22c5\u03bc\u2081 \u22c5\u03bc\u2082 + 6\u22c5\u03bc\u2081 \u22c5\u03bc\u2082\n",
        "\n",
        "                                       2   3                                  \n",
        "\u22c5W(1)                             12\u22c5\u03bc\u2081 \u22c5\u03bc\u2082 \u22c5t\u22c5W(3)                           \n",
        "\u2500\u2500\u2500\u2500\u2500\u2500\u2500\u2500\u2500\u2500\u2500\u2500\u2500\u2500\u2500\u2500\u2500\u2500 - \u2500\u2500\u2500\u2500\u2500\u2500\u2500\u2500\u2500\u2500\u2500\u2500\u2500\u2500\u2500\u2500\u2500\u2500\u2500\u2500\u2500\u2500\u2500\u2500\u2500\u2500\u2500\u2500\u2500\u2500\u2500\u2500\u2500\u2500\u2500\u2500\u2500\u2500\u2500\u2500\u2500\u2500\u2500 + \u2500\u2500\u2500\u2500\u2500\u2500\u2500\u2500\u2500\u2500\u2500\n",
        "2          3     4     4       3          2   2          3     4     4       3\n",
        "  + 4\u22c5\u03bc\u2081\u22c5\u03bc\u2082  + \u03bc\u2082    \u03bc\u2081  + 4\u22c5\u03bc\u2081 \u22c5\u03bc\u2082 + 6\u22c5\u03bc\u2081 \u22c5\u03bc\u2082  + 4\u22c5\u03bc\u2081\u22c5\u03bc\u2082  + \u03bc\u2082    \u03bc\u2081  + 4\u22c5\u03bc\u2081 \n",
        "\n",
        "          4                                             4                     \n",
        "   2\u22c5\u03bc\u2081\u22c5\u03bc\u2082 \u22c5t\u22c5W(1)                               4\u22c5\u03bc\u2081\u22c5\u03bc\u2082 \u22c5t\u22c5W(2)              \n",
        "\u2500\u2500\u2500\u2500\u2500\u2500\u2500\u2500\u2500\u2500\u2500\u2500\u2500\u2500\u2500\u2500\u2500\u2500\u2500\u2500\u2500\u2500\u2500\u2500\u2500\u2500\u2500\u2500\u2500\u2500\u2500\u2500 - \u2500\u2500\u2500\u2500\u2500\u2500\u2500\u2500\u2500\u2500\u2500\u2500\u2500\u2500\u2500\u2500\u2500\u2500\u2500\u2500\u2500\u2500\u2500\u2500\u2500\u2500\u2500\u2500\u2500\u2500\u2500\u2500\u2500\u2500\u2500\u2500\u2500\u2500\u2500\u2500\u2500\u2500\u2500\n",
        "          2   2          3     4     4       3          2   2          3     4\n",
        "\u22c5\u03bc\u2082 + 6\u22c5\u03bc\u2081 \u22c5\u03bc\u2082  + 4\u22c5\u03bc\u2081\u22c5\u03bc\u2082  + \u03bc\u2082    \u03bc\u2081  + 4\u22c5\u03bc\u2081 \u22c5\u03bc\u2082 + 6\u22c5\u03bc\u2081 \u22c5\u03bc\u2082  + 4\u22c5\u03bc\u2081\u22c5\u03bc\u2082  + \u03bc\u2082 \n",
        "\n",
        "                        4                     \u239e                   3           \n",
        "                 6\u22c5\u03bc\u2081\u22c5\u03bc\u2082 \u22c5t\u22c5W(3)              \u239f                 \u03bc\u2081 \u22c5W(0)      \n",
        " + \u2500\u2500\u2500\u2500\u2500\u2500\u2500\u2500\u2500\u2500\u2500\u2500\u2500\u2500\u2500\u2500\u2500\u2500\u2500\u2500\u2500\u2500\u2500\u2500\u2500\u2500\u2500\u2500\u2500\u2500\u2500\u2500\u2500\u2500\u2500\u2500\u2500\u2500\u2500\u2500\u2500\u2500\u2500\u239f + \u2500\u2500\u2500\u2500\u2500\u2500\u2500\u2500\u2500\u2500\u2500\u2500\u2500\u2500\u2500\u2500\u2500\u2500\u2500\u2500\u2500\u2500\u2500\u2500\u2500\u2500\u2500\u2500\n",
        "     4       3          2   2          3     4\u239f       3       2             2 \n",
        "   \u03bc\u2081  + 4\u22c5\u03bc\u2081 \u22c5\u03bc\u2082 + 6\u22c5\u03bc\u2081 \u22c5\u03bc\u2082  + 4\u22c5\u03bc\u2081\u22c5\u03bc\u2082  + \u03bc\u2082 \u23a0   2\u22c5\u03bc\u2081  + 6\u22c5\u03bc\u2081 \u22c5\u03bc\u2082 + 6\u22c5\u03bc\u2081\u22c5\u03bc\u2082  \n",
        "\n",
        "                           3                                     3            \n",
        "                       2\u22c5\u03bc\u2081 \u22c5W(1)                            2\u22c5\u03bc\u2081 \u22c5W(2)       \n",
        "\u2500\u2500\u2500\u2500\u2500\u2500\u2500 + \u2500\u2500\u2500\u2500\u2500\u2500\u2500\u2500\u2500\u2500\u2500\u2500\u2500\u2500\u2500\u2500\u2500\u2500\u2500\u2500\u2500\u2500\u2500\u2500\u2500\u2500\u2500\u2500\u2500\u2500\u2500\u2500\u2500\u2500\u2500 + \u2500\u2500\u2500\u2500\u2500\u2500\u2500\u2500\u2500\u2500\u2500\u2500\u2500\u2500\u2500\u2500\u2500\u2500\u2500\u2500\u2500\u2500\u2500\u2500\u2500\u2500\u2500\u2500\u2500\u2500\n",
        "      3       3       2             2       3       3       2             2   \n",
        "+ 2\u22c5\u03bc\u2082    2\u22c5\u03bc\u2081  + 6\u22c5\u03bc\u2081 \u22c5\u03bc\u2082 + 6\u22c5\u03bc\u2081\u22c5\u03bc\u2082  + 2\u22c5\u03bc\u2082    2\u22c5\u03bc\u2081  + 6\u22c5\u03bc\u2081 \u22c5\u03bc\u2082 + 6\u22c5\u03bc\u2081\u22c5\u03bc\u2082  + \n",
        "\n",
        "                         3                                   2                \n",
        "                     2\u22c5\u03bc\u2081 \u22c5W(3)                          3\u22c5\u03bc\u2081 \u22c5\u03bc\u2082\u22c5W(0)        \n",
        "\u2500\u2500\u2500\u2500\u2500 + \u2500\u2500\u2500\u2500\u2500\u2500\u2500\u2500\u2500\u2500\u2500\u2500\u2500\u2500\u2500\u2500\u2500\u2500\u2500\u2500\u2500\u2500\u2500\u2500\u2500\u2500\u2500\u2500\u2500\u2500\u2500\u2500\u2500\u2500\u2500 + \u2500\u2500\u2500\u2500\u2500\u2500\u2500\u2500\u2500\u2500\u2500\u2500\u2500\u2500\u2500\u2500\u2500\u2500\u2500\u2500\u2500\u2500\u2500\u2500\u2500\u2500\u2500\u2500\u2500\u2500\u2500\u2500\n",
        "    3       3       2             2       3       3       2             2     \n",
        "2\u22c5\u03bc\u2082    2\u22c5\u03bc\u2081  + 6\u22c5\u03bc\u2081 \u22c5\u03bc\u2082 + 6\u22c5\u03bc\u2081\u22c5\u03bc\u2082  + 2\u22c5\u03bc\u2082    2\u22c5\u03bc\u2081  + 6\u22c5\u03bc\u2081 \u22c5\u03bc\u2082 + 6\u22c5\u03bc\u2081\u22c5\u03bc\u2082  + 2\u22c5\n",
        "\n",
        "                     2                                     2                  \n",
        "                 2\u22c5\u03bc\u2081 \u22c5\u03bc\u2082\u22c5W(1)                         2\u22c5\u03bc\u2081 \u22c5\u03bc\u2082\u22c5W(2)          \n",
        "\u2500\u2500\u2500 + \u2500\u2500\u2500\u2500\u2500\u2500\u2500\u2500\u2500\u2500\u2500\u2500\u2500\u2500\u2500\u2500\u2500\u2500\u2500\u2500\u2500\u2500\u2500\u2500\u2500\u2500\u2500\u2500\u2500\u2500\u2500\u2500\u2500\u2500\u2500 - \u2500\u2500\u2500\u2500\u2500\u2500\u2500\u2500\u2500\u2500\u2500\u2500\u2500\u2500\u2500\u2500\u2500\u2500\u2500\u2500\u2500\u2500\u2500\u2500\u2500\u2500\u2500\u2500\u2500\u2500\u2500\u2500\u2500\u2500\n",
        "  3       3       2             2       3       3       2             2       \n",
        "\u03bc\u2082    2\u22c5\u03bc\u2081  + 6\u22c5\u03bc\u2081 \u22c5\u03bc\u2082 + 6\u22c5\u03bc\u2081\u22c5\u03bc\u2082  + 2\u22c5\u03bc\u2082    2\u22c5\u03bc\u2081  + 6\u22c5\u03bc\u2081 \u22c5\u03bc\u2082 + 6\u22c5\u03bc\u2081\u22c5\u03bc\u2082  + 2\u22c5\u03bc\u2082\n",
        "\n",
        "                   2                                        2                 \n",
        "               6\u22c5\u03bc\u2081 \u22c5\u03bc\u2082\u22c5W(3)                         3\u22c5\u03bc\u2081\u22c5\u03bc\u2082 \u22c5W(0)            \n",
        "\u2500 - \u2500\u2500\u2500\u2500\u2500\u2500\u2500\u2500\u2500\u2500\u2500\u2500\u2500\u2500\u2500\u2500\u2500\u2500\u2500\u2500\u2500\u2500\u2500\u2500\u2500\u2500\u2500\u2500\u2500\u2500\u2500\u2500\u2500\u2500\u2500 + \u2500\u2500\u2500\u2500\u2500\u2500\u2500\u2500\u2500\u2500\u2500\u2500\u2500\u2500\u2500\u2500\u2500\u2500\u2500\u2500\u2500\u2500\u2500\u2500\u2500\u2500\u2500\u2500\u2500\u2500\u2500\u2500\u2500\u2500\u2500 \n",
        "3       3       2             2       3       3       2             2       3 \n",
        "    2\u22c5\u03bc\u2081  + 6\u22c5\u03bc\u2081 \u22c5\u03bc\u2082 + 6\u22c5\u03bc\u2081\u22c5\u03bc\u2082  + 2\u22c5\u03bc\u2082    2\u22c5\u03bc\u2081  + 6\u22c5\u03bc\u2081 \u22c5\u03bc\u2082 + 6\u22c5\u03bc\u2081\u22c5\u03bc\u2082  + 2\u22c5\u03bc\u2082  \n",
        "\n",
        "                    2                                     2                   \n",
        "             2\u22c5\u03bc\u2081\u22c5\u03bc\u2082 \u22c5W(1)                         2\u22c5\u03bc\u2081\u22c5\u03bc\u2082 \u22c5W(2)              \n",
        "- \u2500\u2500\u2500\u2500\u2500\u2500\u2500\u2500\u2500\u2500\u2500\u2500\u2500\u2500\u2500\u2500\u2500\u2500\u2500\u2500\u2500\u2500\u2500\u2500\u2500\u2500\u2500\u2500\u2500\u2500\u2500\u2500\u2500\u2500\u2500 - \u2500\u2500\u2500\u2500\u2500\u2500\u2500\u2500\u2500\u2500\u2500\u2500\u2500\u2500\u2500\u2500\u2500\u2500\u2500\u2500\u2500\u2500\u2500\u2500\u2500\u2500\u2500\u2500\u2500\u2500\u2500\u2500\u2500\u2500\u2500 + \n",
        "      3       2             2       3       3       2             2       3   \n",
        "  2\u22c5\u03bc\u2081  + 6\u22c5\u03bc\u2081 \u22c5\u03bc\u2082 + 6\u22c5\u03bc\u2081\u22c5\u03bc\u2082  + 2\u22c5\u03bc\u2082    2\u22c5\u03bc\u2081  + 6\u22c5\u03bc\u2081 \u22c5\u03bc\u2082 + 6\u22c5\u03bc\u2081\u22c5\u03bc\u2082  + 2\u22c5\u03bc\u2082    \n",
        "\n",
        "                  2                                   3                       \n",
        "           6\u22c5\u03bc\u2081\u22c5\u03bc\u2082 \u22c5W(3)                            \u03bc\u2082 \u22c5W(0)                  \n",
        "\u2500\u2500\u2500\u2500\u2500\u2500\u2500\u2500\u2500\u2500\u2500\u2500\u2500\u2500\u2500\u2500\u2500\u2500\u2500\u2500\u2500\u2500\u2500\u2500\u2500\u2500\u2500\u2500\u2500\u2500\u2500\u2500\u2500\u2500\u2500 + \u2500\u2500\u2500\u2500\u2500\u2500\u2500\u2500\u2500\u2500\u2500\u2500\u2500\u2500\u2500\u2500\u2500\u2500\u2500\u2500\u2500\u2500\u2500\u2500\u2500\u2500\u2500\u2500\u2500\u2500\u2500\u2500\u2500\u2500\u2500 - \u2500\u2500\n",
        "    3       2             2       3       3       2             2       3     \n",
        "2\u22c5\u03bc\u2081  + 6\u22c5\u03bc\u2081 \u22c5\u03bc\u2082 + 6\u22c5\u03bc\u2081\u22c5\u03bc\u2082  + 2\u22c5\u03bc\u2082    2\u22c5\u03bc\u2081  + 6\u22c5\u03bc\u2081 \u22c5\u03bc\u2082 + 6\u22c5\u03bc\u2081\u22c5\u03bc\u2082  + 2\u22c5\u03bc\u2082    2\u22c5\n",
        "\n",
        "               3                                     3                        \n",
        "           2\u22c5\u03bc\u2082 \u22c5W(1)                            2\u22c5\u03bc\u2082 \u22c5W(2)                   \n",
        "\u2500\u2500\u2500\u2500\u2500\u2500\u2500\u2500\u2500\u2500\u2500\u2500\u2500\u2500\u2500\u2500\u2500\u2500\u2500\u2500\u2500\u2500\u2500\u2500\u2500\u2500\u2500\u2500\u2500\u2500\u2500\u2500\u2500 + \u2500\u2500\u2500\u2500\u2500\u2500\u2500\u2500\u2500\u2500\u2500\u2500\u2500\u2500\u2500\u2500\u2500\u2500\u2500\u2500\u2500\u2500\u2500\u2500\u2500\u2500\u2500\u2500\u2500\u2500\u2500\u2500\u2500\u2500\u2500 - \u2500\u2500\u2500\u2500\n",
        "  3       2             2       3       3       2             2       3       \n",
        "\u03bc\u2081  + 6\u22c5\u03bc\u2081 \u22c5\u03bc\u2082 + 6\u22c5\u03bc\u2081\u22c5\u03bc\u2082  + 2\u22c5\u03bc\u2082    2\u22c5\u03bc\u2081  + 6\u22c5\u03bc\u2081 \u22c5\u03bc\u2082 + 6\u22c5\u03bc\u2081\u22c5\u03bc\u2082  + 2\u22c5\u03bc\u2082    2\u22c5\u03bc\u2081\n",
        "\n",
        "             3                 \n",
        "         2\u22c5\u03bc\u2082 \u22c5W(3)            \n",
        "\u2500\u2500\u2500\u2500\u2500\u2500\u2500\u2500\u2500\u2500\u2500\u2500\u2500\u2500\u2500\u2500\u2500\u2500\u2500\u2500\u2500\u2500\u2500\u2500\u2500\u2500\u2500\u2500\u2500\u2500\u2500\n",
        "3       2             2       3\n",
        "  + 6\u22c5\u03bc\u2081 \u22c5\u03bc\u2082 + 6\u22c5\u03bc\u2081\u22c5\u03bc\u2082  + 2\u22c5\u03bc\u2082 "
       ]
      }
     ],
     "prompt_number": 235
    },
    {
     "cell_type": "markdown",
     "metadata": {},
     "source": [
      "The above expression contains the initial displacements and initial velocities, it can be seen that latter expressions is linear with respect the inverse viscosities in the two layers.  \n",
      "\n",
      "The above expression can be greatly simplified when assuming that mu1=mu2.  Doing so and expanding to the third term of u_viscoelastic yields equation 9 in the text."
     ]
    },
    {
     "cell_type": "code",
     "collapsed": false,
     "input": [
      "uhat_viscoelastic = uhat_viscoelastic.subs(mu2,mu1)\n",
      "uhat_viscoelastic = uhat_viscoelastic.subs(((etainv1,1/eta1),(etainv2,1/eta2)))\n",
      "u_viscoelastic = inverse_laplace_transform_series_expansion(uhat_viscoelastic,s,t,2)\n",
      "u_viscoelastic.expand().collect(t)\n"
     ],
     "language": "python",
     "metadata": {},
     "outputs": [
      {
       "latex": [
        "$$t^{2} \\left(- \\frac{\\mu_{1}^{2}}{8 \\eta_{2}^{2}} W{\\left (1 \\right )} + \\frac{\\mu_{1}^{2}}{8 \\eta_{2}^{2}} W{\\left (2 \\right )} - \\frac{\\mu_{1}^{2} W{\\left (2 \\right )}}{4 \\eta_{1} \\eta_{2}} + \\frac{\\mu_{1}^{2}}{8 \\eta_{1}^{2}} W{\\left (1 \\right )} + \\frac{\\mu_{1}^{2}}{8 \\eta_{1}^{2}} W{\\left (2 \\right )}\\right) + t \\left(\\frac{\\mu_{1}}{2 \\eta_{2}} W{\\left (1 \\right )} - \\frac{\\mu_{1}}{2 \\eta_{1}} W{\\left (1 \\right )}\\right) + \\frac{1}{2} W{\\left (0 \\right )}$$"
       ],
       "metadata": {},
       "output_type": "pyout",
       "png": "[encoded data removed]",
       "prompt_number": 236,
       "text": [
        "   \u239b    2          2          2          2          2     \u239e                   \n",
        " 2 \u239c  \u03bc\u2081 \u22c5W(1)   \u03bc\u2081 \u22c5W(2)   \u03bc\u2081 \u22c5W(2)   \u03bc\u2081 \u22c5W(1)   \u03bc\u2081 \u22c5W(2)\u239f     \u239b\u03bc\u2081\u22c5W(1)   \u03bc\u2081\u22c5\n",
        "t \u22c5\u239c- \u2500\u2500\u2500\u2500\u2500\u2500\u2500\u2500 + \u2500\u2500\u2500\u2500\u2500\u2500\u2500\u2500 - \u2500\u2500\u2500\u2500\u2500\u2500\u2500\u2500 + \u2500\u2500\u2500\u2500\u2500\u2500\u2500\u2500 + \u2500\u2500\u2500\u2500\u2500\u2500\u2500\u2500\u239f + t\u22c5\u239c\u2500\u2500\u2500\u2500\u2500\u2500\u2500 - \u2500\u2500\u2500\n",
        "   \u239c       2          2     4\u22c5\u03b7\u2081\u22c5\u03b7\u2082         2          2  \u239f     \u239d  2\u22c5\u03b7\u2082      2\n",
        "   \u239d   8\u22c5\u03b7\u2082       8\u22c5\u03b7\u2082                  8\u22c5\u03b7\u2081       8\u22c5\u03b7\u2081   \u23a0                   \n",
        "\n",
        "            \n",
        "W(1)\u239e   W(0)\n",
        "\u2500\u2500\u2500\u2500\u239f + \u2500\u2500\u2500\u2500\n",
        "\u22c5\u03b7\u2081 \u23a0    2  \n",
        "            "
       ]
      }
     ],
     "prompt_number": 236
    },
    {
     "cell_type": "markdown",
     "metadata": {},
     "source": [
      "##Maxwell viscoelastic 2D three layered earthquake model                                                             \n",
      "  This procedure can be repeated for a three layered viscoelastic earthquake                                       \n",
      "  model.  We start with the solution for the three layered elastic solution from                                   \n",
      "  Chinnery and Jovanovich 1972. WE ADOPT THE NOTATION FROM CHINNERY AND                                            \n",
      "  JOVANOVICH 1972 which is described below                                                                         \n",
      "                                                                                                                   \n",
      "##variables used:                                                                                                    \n",
      "  mu3,mu2,mu1: shear modulus for the top, middle, and bottom layer (mu4 from                                       \n",
      "               Chinnery and Jovanovich is assumed 0)                                                               \n",
      "  eta3,eta2,eta1: viscosity for the top, middle, and bottom layer                                                  \n",
      "  h3,h2: thichness of the top and middle layer                                                                     \n",
      "  p: depth to the bottom of the fault. (down is positive)"
     ]
    },
    {
     "cell_type": "code",
     "collapsed": false,
     "input": [
      "# Chinnery and Jovanovich 1972 solution\n",
      "l_max = 2\n",
      "m_max = 2\n",
      "n_max = 2\n",
      "\n",
      "a1    = (mu2 - mu1) / (mu2 + mu1)\n",
      "a2    = (mu3 - mu2) / (mu3 + mu2)\n",
      "a3    = -1\n",
      "b1    = 2*mu1 / (mu1 + mu2)\n",
      "b2    = 2*mu2 / (mu2 + mu3)\n",
      "b3    = 2\n",
      "d1    = 2*mu2 / (mu1 + mu2)\n",
      "d2    = 2*mu3 / (mu2 + mu3)\n",
      "W = sp.Function('W')(M,N)\n",
      "\n",
      "def P(l,m,n):\n",
      "  N = sp.factorial(n+1) * sp.factorial(l+m-1)\n",
      "  D = sp.factorial(l) * sp.factorial(n) * sp.factorial(l-1) * sp.factorial(m)\n",
      "  return N / D\n",
      "\n",
      "def Q(l,m,n):\n",
      "  N = sp.factorial(n+l) * sp.factorial(l+m)\n",
      "  D = sp.factorial(l) * sp.factorial(n) * sp.factorial(l) * sp.factorial(m)\n",
      "  return N / D\n",
      "\n",
      "u = -b3*sp.Rational(-1,2)*W.subs(((N,0),(M,0)))\n",
      "for n in range(n_max):\n",
      "  coeff = a2*b3*(-a2*a3)**n\n",
      "  u += coeff*W.subs(((M,0),(N,n+1)))\n",
      "\n",
      "for l in range(1,l_max):\n",
      "  for m in range(m_max):\n",
      "    for n in range(n_max):\n",
      "      coeff = a2*b3*(-a1*a2)**m*(-a2*a3)**n*(-a2*a3*d2*b2)**l*P(l,m,n)\n",
      "      u += coeff*W.subs(((M,l+m),(N,l+n+1)))\n",
      "\n",
      "for l in range(l_max):\n",
      "  for m in range(m_max):\n",
      "    for n in range(n_max):\n",
      "      coeff = a1*d2*b2*b3*(-a1*a3)**m*(-a2*a3)**n*(-a1*a3*d2*b2)**l*Q(l,m,n)\n",
      "      u += coeff*W.subs(((M,l+m+1),(N,l+n+1)))\n",
      "\n",
      "u_elastic = sp.Rational(1,2)*b*u"
     ],
     "language": "python",
     "metadata": {},
     "outputs": [],
     "prompt_number": 237
    },
    {
     "cell_type": "code",
     "collapsed": false,
     "input": [
      "uhat_elastic = sp.laplace_transform(u_elastic,t,s)[0]\n",
      "mu1hat = s/((s/mu1) + (1/eta1))\n",
      "mu2hat = s/((s/mu1) + (1/eta2))\n",
      "mu3hat = s/((s/mu1) + (1/eta3))\n",
      "uhat_viscoelastic = uhat_elastic.subs(((mu1,mu1hat),(mu2,mu2hat),(mu3,mu3hat)))\n",
      "u_viscoelastic = inverse_laplace_transform_series_expansion(uhat_viscoelastic,s,t,1)\n",
      "u_viscoelastic.expand()"
     ],
     "language": "python",
     "metadata": {},
     "outputs": [
      {
       "latex": [
        "$$\\frac{1}{2} W{\\left (0,0 \\right )} - \\frac{\\mu_{1} t}{2 \\eta_{3}} W{\\left (0,1 \\right )} + \\frac{\\mu_{1} t}{2 \\eta_{2}} W{\\left (0,1 \\right )} - \\frac{\\mu_{1} t}{2 \\eta_{2}} W{\\left (1,1 \\right )} + \\frac{\\mu_{1} t}{2 \\eta_{1}} W{\\left (1,1 \\right )}$$"
       ],
       "metadata": {},
       "output_type": "pyout",
       "png": "[encoded data removed]",
       "prompt_number": 238,
       "text": [
        "W(0, 0)   \u03bc\u2081\u22c5t\u22c5W(0, 1)   \u03bc\u2081\u22c5t\u22c5W(0, 1)   \u03bc\u2081\u22c5t\u22c5W(1, 1)   \u03bc\u2081\u22c5t\u22c5W(1, 1)\n",
        "\u2500\u2500\u2500\u2500\u2500\u2500\u2500 - \u2500\u2500\u2500\u2500\u2500\u2500\u2500\u2500\u2500\u2500\u2500\u2500 + \u2500\u2500\u2500\u2500\u2500\u2500\u2500\u2500\u2500\u2500\u2500\u2500 - \u2500\u2500\u2500\u2500\u2500\u2500\u2500\u2500\u2500\u2500\u2500\u2500 + \u2500\u2500\u2500\u2500\u2500\u2500\u2500\u2500\u2500\u2500\u2500\u2500\n",
        "   2          2\u22c5\u03b7\u2083           2\u22c5\u03b7\u2082           2\u22c5\u03b7\u2082           2\u22c5\u03b7\u2081    "
       ]
      }
     ],
     "prompt_number": 238
    },
    {
     "cell_type": "markdown",
     "metadata": {},
     "source": [
      "The above equation is equation 12 in the text, except that b(t) is explicity defined here and the numbering for the viscosities are reversed from what is shown in the text. "
     ]
    },
    {
     "cell_type": "code",
     "collapsed": false,
     "input": [],
     "language": "python",
     "metadata": {},
     "outputs": []
    }
   ],
   "metadata": {}
  }
 ]
}